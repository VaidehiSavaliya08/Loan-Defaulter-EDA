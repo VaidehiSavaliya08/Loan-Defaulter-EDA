{
 "cells": [
  {
   "cell_type": "markdown",
   "id": "9cb57c73",
   "metadata": {},
   "source": [
    "## Importing the libraries"
   ]
  },
  {
   "cell_type": "code",
   "execution_count": 1,
   "id": "f6d57860",
   "metadata": {},
   "outputs": [],
   "source": [
    "import warnings\n",
    "warnings.filterwarnings(\"ignore\")"
   ]
  },
  {
   "cell_type": "code",
   "execution_count": 2,
   "id": "3830beb2",
   "metadata": {},
   "outputs": [],
   "source": [
    "#Import all the necessary libraries\n",
    "\n",
    "import numpy as np\n",
    "import pandas as pd\n",
    "import matplotlib.pyplot as plt\n",
    "import seaborn as sns\n",
    "%matplotlib inline"
   ]
  },
  {
   "cell_type": "markdown",
   "id": "9a945b6f",
   "metadata": {},
   "source": [
    "## Reading Dataset-1"
   ]
  },
  {
   "cell_type": "code",
   "execution_count": 3,
   "id": "63fc957f",
   "metadata": {},
   "outputs": [
    {
     "ename": "FileNotFoundError",
     "evalue": "[Errno 2] No such file or directory: 'C:\\\\Users\\\\saval\\\\Downloads\\\\application_data.csv'",
     "output_type": "error",
     "traceback": [
      "\u001b[1;31m---------------------------------------------------------------------------\u001b[0m",
      "\u001b[1;31mFileNotFoundError\u001b[0m                         Traceback (most recent call last)",
      "\u001b[1;32m~\\AppData\\Local\\Temp/ipykernel_19564/3101373026.py\u001b[0m in \u001b[0;36m<module>\u001b[1;34m\u001b[0m\n\u001b[0;32m      1\u001b[0m \u001b[1;31m# Reading data from file\u001b[0m\u001b[1;33m\u001b[0m\u001b[1;33m\u001b[0m\u001b[0m\n\u001b[1;32m----> 2\u001b[1;33m \u001b[0minp0\u001b[0m \u001b[1;33m=\u001b[0m \u001b[0mpd\u001b[0m\u001b[1;33m.\u001b[0m\u001b[0mread_csv\u001b[0m\u001b[1;33m(\u001b[0m\u001b[1;34mr\"C:\\Users\\saval\\Downloads\\application_data.csv\"\u001b[0m\u001b[1;33m)\u001b[0m\u001b[1;33m\u001b[0m\u001b[1;33m\u001b[0m\u001b[0m\n\u001b[0m\u001b[0;32m      3\u001b[0m \u001b[0minp0\u001b[0m\u001b[1;33m.\u001b[0m\u001b[0mhead\u001b[0m\u001b[1;33m(\u001b[0m\u001b[1;33m)\u001b[0m\u001b[1;33m\u001b[0m\u001b[1;33m\u001b[0m\u001b[0m\n",
      "\u001b[1;32mC:\\ProgramData\\Anaconda3\\lib\\site-packages\\pandas\\util\\_decorators.py\u001b[0m in \u001b[0;36mwrapper\u001b[1;34m(*args, **kwargs)\u001b[0m\n\u001b[0;32m    309\u001b[0m                     \u001b[0mstacklevel\u001b[0m\u001b[1;33m=\u001b[0m\u001b[0mstacklevel\u001b[0m\u001b[1;33m,\u001b[0m\u001b[1;33m\u001b[0m\u001b[1;33m\u001b[0m\u001b[0m\n\u001b[0;32m    310\u001b[0m                 )\n\u001b[1;32m--> 311\u001b[1;33m             \u001b[1;32mreturn\u001b[0m \u001b[0mfunc\u001b[0m\u001b[1;33m(\u001b[0m\u001b[1;33m*\u001b[0m\u001b[0margs\u001b[0m\u001b[1;33m,\u001b[0m \u001b[1;33m**\u001b[0m\u001b[0mkwargs\u001b[0m\u001b[1;33m)\u001b[0m\u001b[1;33m\u001b[0m\u001b[1;33m\u001b[0m\u001b[0m\n\u001b[0m\u001b[0;32m    312\u001b[0m \u001b[1;33m\u001b[0m\u001b[0m\n\u001b[0;32m    313\u001b[0m         \u001b[1;32mreturn\u001b[0m \u001b[0mwrapper\u001b[0m\u001b[1;33m\u001b[0m\u001b[1;33m\u001b[0m\u001b[0m\n",
      "\u001b[1;32mC:\\ProgramData\\Anaconda3\\lib\\site-packages\\pandas\\io\\parsers\\readers.py\u001b[0m in \u001b[0;36mread_csv\u001b[1;34m(filepath_or_buffer, sep, delimiter, header, names, index_col, usecols, squeeze, prefix, mangle_dupe_cols, dtype, engine, converters, true_values, false_values, skipinitialspace, skiprows, skipfooter, nrows, na_values, keep_default_na, na_filter, verbose, skip_blank_lines, parse_dates, infer_datetime_format, keep_date_col, date_parser, dayfirst, cache_dates, iterator, chunksize, compression, thousands, decimal, lineterminator, quotechar, quoting, doublequote, escapechar, comment, encoding, encoding_errors, dialect, error_bad_lines, warn_bad_lines, on_bad_lines, delim_whitespace, low_memory, memory_map, float_precision, storage_options)\u001b[0m\n\u001b[0;32m    584\u001b[0m     \u001b[0mkwds\u001b[0m\u001b[1;33m.\u001b[0m\u001b[0mupdate\u001b[0m\u001b[1;33m(\u001b[0m\u001b[0mkwds_defaults\u001b[0m\u001b[1;33m)\u001b[0m\u001b[1;33m\u001b[0m\u001b[1;33m\u001b[0m\u001b[0m\n\u001b[0;32m    585\u001b[0m \u001b[1;33m\u001b[0m\u001b[0m\n\u001b[1;32m--> 586\u001b[1;33m     \u001b[1;32mreturn\u001b[0m \u001b[0m_read\u001b[0m\u001b[1;33m(\u001b[0m\u001b[0mfilepath_or_buffer\u001b[0m\u001b[1;33m,\u001b[0m \u001b[0mkwds\u001b[0m\u001b[1;33m)\u001b[0m\u001b[1;33m\u001b[0m\u001b[1;33m\u001b[0m\u001b[0m\n\u001b[0m\u001b[0;32m    587\u001b[0m \u001b[1;33m\u001b[0m\u001b[0m\n\u001b[0;32m    588\u001b[0m \u001b[1;33m\u001b[0m\u001b[0m\n",
      "\u001b[1;32mC:\\ProgramData\\Anaconda3\\lib\\site-packages\\pandas\\io\\parsers\\readers.py\u001b[0m in \u001b[0;36m_read\u001b[1;34m(filepath_or_buffer, kwds)\u001b[0m\n\u001b[0;32m    480\u001b[0m \u001b[1;33m\u001b[0m\u001b[0m\n\u001b[0;32m    481\u001b[0m     \u001b[1;31m# Create the parser.\u001b[0m\u001b[1;33m\u001b[0m\u001b[1;33m\u001b[0m\u001b[0m\n\u001b[1;32m--> 482\u001b[1;33m     \u001b[0mparser\u001b[0m \u001b[1;33m=\u001b[0m \u001b[0mTextFileReader\u001b[0m\u001b[1;33m(\u001b[0m\u001b[0mfilepath_or_buffer\u001b[0m\u001b[1;33m,\u001b[0m \u001b[1;33m**\u001b[0m\u001b[0mkwds\u001b[0m\u001b[1;33m)\u001b[0m\u001b[1;33m\u001b[0m\u001b[1;33m\u001b[0m\u001b[0m\n\u001b[0m\u001b[0;32m    483\u001b[0m \u001b[1;33m\u001b[0m\u001b[0m\n\u001b[0;32m    484\u001b[0m     \u001b[1;32mif\u001b[0m \u001b[0mchunksize\u001b[0m \u001b[1;32mor\u001b[0m \u001b[0miterator\u001b[0m\u001b[1;33m:\u001b[0m\u001b[1;33m\u001b[0m\u001b[1;33m\u001b[0m\u001b[0m\n",
      "\u001b[1;32mC:\\ProgramData\\Anaconda3\\lib\\site-packages\\pandas\\io\\parsers\\readers.py\u001b[0m in \u001b[0;36m__init__\u001b[1;34m(self, f, engine, **kwds)\u001b[0m\n\u001b[0;32m    809\u001b[0m             \u001b[0mself\u001b[0m\u001b[1;33m.\u001b[0m\u001b[0moptions\u001b[0m\u001b[1;33m[\u001b[0m\u001b[1;34m\"has_index_names\"\u001b[0m\u001b[1;33m]\u001b[0m \u001b[1;33m=\u001b[0m \u001b[0mkwds\u001b[0m\u001b[1;33m[\u001b[0m\u001b[1;34m\"has_index_names\"\u001b[0m\u001b[1;33m]\u001b[0m\u001b[1;33m\u001b[0m\u001b[1;33m\u001b[0m\u001b[0m\n\u001b[0;32m    810\u001b[0m \u001b[1;33m\u001b[0m\u001b[0m\n\u001b[1;32m--> 811\u001b[1;33m         \u001b[0mself\u001b[0m\u001b[1;33m.\u001b[0m\u001b[0m_engine\u001b[0m \u001b[1;33m=\u001b[0m \u001b[0mself\u001b[0m\u001b[1;33m.\u001b[0m\u001b[0m_make_engine\u001b[0m\u001b[1;33m(\u001b[0m\u001b[0mself\u001b[0m\u001b[1;33m.\u001b[0m\u001b[0mengine\u001b[0m\u001b[1;33m)\u001b[0m\u001b[1;33m\u001b[0m\u001b[1;33m\u001b[0m\u001b[0m\n\u001b[0m\u001b[0;32m    812\u001b[0m \u001b[1;33m\u001b[0m\u001b[0m\n\u001b[0;32m    813\u001b[0m     \u001b[1;32mdef\u001b[0m \u001b[0mclose\u001b[0m\u001b[1;33m(\u001b[0m\u001b[0mself\u001b[0m\u001b[1;33m)\u001b[0m\u001b[1;33m:\u001b[0m\u001b[1;33m\u001b[0m\u001b[1;33m\u001b[0m\u001b[0m\n",
      "\u001b[1;32mC:\\ProgramData\\Anaconda3\\lib\\site-packages\\pandas\\io\\parsers\\readers.py\u001b[0m in \u001b[0;36m_make_engine\u001b[1;34m(self, engine)\u001b[0m\n\u001b[0;32m   1038\u001b[0m             )\n\u001b[0;32m   1039\u001b[0m         \u001b[1;31m# error: Too many arguments for \"ParserBase\"\u001b[0m\u001b[1;33m\u001b[0m\u001b[1;33m\u001b[0m\u001b[0m\n\u001b[1;32m-> 1040\u001b[1;33m         \u001b[1;32mreturn\u001b[0m \u001b[0mmapping\u001b[0m\u001b[1;33m[\u001b[0m\u001b[0mengine\u001b[0m\u001b[1;33m]\u001b[0m\u001b[1;33m(\u001b[0m\u001b[0mself\u001b[0m\u001b[1;33m.\u001b[0m\u001b[0mf\u001b[0m\u001b[1;33m,\u001b[0m \u001b[1;33m**\u001b[0m\u001b[0mself\u001b[0m\u001b[1;33m.\u001b[0m\u001b[0moptions\u001b[0m\u001b[1;33m)\u001b[0m  \u001b[1;31m# type: ignore[call-arg]\u001b[0m\u001b[1;33m\u001b[0m\u001b[1;33m\u001b[0m\u001b[0m\n\u001b[0m\u001b[0;32m   1041\u001b[0m \u001b[1;33m\u001b[0m\u001b[0m\n\u001b[0;32m   1042\u001b[0m     \u001b[1;32mdef\u001b[0m \u001b[0m_failover_to_python\u001b[0m\u001b[1;33m(\u001b[0m\u001b[0mself\u001b[0m\u001b[1;33m)\u001b[0m\u001b[1;33m:\u001b[0m\u001b[1;33m\u001b[0m\u001b[1;33m\u001b[0m\u001b[0m\n",
      "\u001b[1;32mC:\\ProgramData\\Anaconda3\\lib\\site-packages\\pandas\\io\\parsers\\c_parser_wrapper.py\u001b[0m in \u001b[0;36m__init__\u001b[1;34m(self, src, **kwds)\u001b[0m\n\u001b[0;32m     49\u001b[0m \u001b[1;33m\u001b[0m\u001b[0m\n\u001b[0;32m     50\u001b[0m         \u001b[1;31m# open handles\u001b[0m\u001b[1;33m\u001b[0m\u001b[1;33m\u001b[0m\u001b[0m\n\u001b[1;32m---> 51\u001b[1;33m         \u001b[0mself\u001b[0m\u001b[1;33m.\u001b[0m\u001b[0m_open_handles\u001b[0m\u001b[1;33m(\u001b[0m\u001b[0msrc\u001b[0m\u001b[1;33m,\u001b[0m \u001b[0mkwds\u001b[0m\u001b[1;33m)\u001b[0m\u001b[1;33m\u001b[0m\u001b[1;33m\u001b[0m\u001b[0m\n\u001b[0m\u001b[0;32m     52\u001b[0m         \u001b[1;32massert\u001b[0m \u001b[0mself\u001b[0m\u001b[1;33m.\u001b[0m\u001b[0mhandles\u001b[0m \u001b[1;32mis\u001b[0m \u001b[1;32mnot\u001b[0m \u001b[1;32mNone\u001b[0m\u001b[1;33m\u001b[0m\u001b[1;33m\u001b[0m\u001b[0m\n\u001b[0;32m     53\u001b[0m \u001b[1;33m\u001b[0m\u001b[0m\n",
      "\u001b[1;32mC:\\ProgramData\\Anaconda3\\lib\\site-packages\\pandas\\io\\parsers\\base_parser.py\u001b[0m in \u001b[0;36m_open_handles\u001b[1;34m(self, src, kwds)\u001b[0m\n\u001b[0;32m    220\u001b[0m         \u001b[0mLet\u001b[0m \u001b[0mthe\u001b[0m \u001b[0mreaders\u001b[0m \u001b[0mopen\u001b[0m \u001b[0mIOHandles\u001b[0m \u001b[0mafter\u001b[0m \u001b[0mthey\u001b[0m \u001b[0mare\u001b[0m \u001b[0mdone\u001b[0m \u001b[1;32mwith\u001b[0m \u001b[0mtheir\u001b[0m \u001b[0mpotential\u001b[0m \u001b[0mraises\u001b[0m\u001b[1;33m.\u001b[0m\u001b[1;33m\u001b[0m\u001b[1;33m\u001b[0m\u001b[0m\n\u001b[0;32m    221\u001b[0m         \"\"\"\n\u001b[1;32m--> 222\u001b[1;33m         self.handles = get_handle(\n\u001b[0m\u001b[0;32m    223\u001b[0m             \u001b[0msrc\u001b[0m\u001b[1;33m,\u001b[0m\u001b[1;33m\u001b[0m\u001b[1;33m\u001b[0m\u001b[0m\n\u001b[0;32m    224\u001b[0m             \u001b[1;34m\"r\"\u001b[0m\u001b[1;33m,\u001b[0m\u001b[1;33m\u001b[0m\u001b[1;33m\u001b[0m\u001b[0m\n",
      "\u001b[1;32mC:\\ProgramData\\Anaconda3\\lib\\site-packages\\pandas\\io\\common.py\u001b[0m in \u001b[0;36mget_handle\u001b[1;34m(path_or_buf, mode, encoding, compression, memory_map, is_text, errors, storage_options)\u001b[0m\n\u001b[0;32m    700\u001b[0m         \u001b[1;32mif\u001b[0m \u001b[0mioargs\u001b[0m\u001b[1;33m.\u001b[0m\u001b[0mencoding\u001b[0m \u001b[1;32mand\u001b[0m \u001b[1;34m\"b\"\u001b[0m \u001b[1;32mnot\u001b[0m \u001b[1;32min\u001b[0m \u001b[0mioargs\u001b[0m\u001b[1;33m.\u001b[0m\u001b[0mmode\u001b[0m\u001b[1;33m:\u001b[0m\u001b[1;33m\u001b[0m\u001b[1;33m\u001b[0m\u001b[0m\n\u001b[0;32m    701\u001b[0m             \u001b[1;31m# Encoding\u001b[0m\u001b[1;33m\u001b[0m\u001b[1;33m\u001b[0m\u001b[0m\n\u001b[1;32m--> 702\u001b[1;33m             handle = open(\n\u001b[0m\u001b[0;32m    703\u001b[0m                 \u001b[0mhandle\u001b[0m\u001b[1;33m,\u001b[0m\u001b[1;33m\u001b[0m\u001b[1;33m\u001b[0m\u001b[0m\n\u001b[0;32m    704\u001b[0m                 \u001b[0mioargs\u001b[0m\u001b[1;33m.\u001b[0m\u001b[0mmode\u001b[0m\u001b[1;33m,\u001b[0m\u001b[1;33m\u001b[0m\u001b[1;33m\u001b[0m\u001b[0m\n",
      "\u001b[1;31mFileNotFoundError\u001b[0m: [Errno 2] No such file or directory: 'C:\\\\Users\\\\saval\\\\Downloads\\\\application_data.csv'"
     ]
    }
   ],
   "source": [
    "# Reading data from file\n",
    "inp0 = pd.read_csv(r\"C:\\Users\\saval\\Downloads\\application_data.csv\")\n",
    "inp0.head()"
   ]
  },
  {
   "cell_type": "markdown",
   "id": "d2044ae7",
   "metadata": {},
   "source": [
    "#### checking size of the data\n"
   ]
  },
  {
   "cell_type": "code",
   "execution_count": null,
   "id": "d5064f76",
   "metadata": {},
   "outputs": [],
   "source": [
    "inp0.shape"
   ]
  },
  {
   "cell_type": "markdown",
   "id": "b954da26",
   "metadata": {},
   "source": [
    "## Data Cleaning"
   ]
  },
  {
   "cell_type": "code",
   "execution_count": null,
   "id": "dc00da49",
   "metadata": {},
   "outputs": [],
   "source": [
    "inp0.columns"
   ]
  },
  {
   "cell_type": "code",
   "execution_count": null,
   "id": "457c0c1e",
   "metadata": {},
   "outputs": [],
   "source": [
    "# Describing the data\n",
    "inp0.describe()"
   ]
  },
  {
   "cell_type": "markdown",
   "id": "00d98def",
   "metadata": {},
   "source": [
    "#### Insight:\n",
    "- From the above reading certain details can be identified such as data contains 307511 rows and 122 columns.\n",
    "- There are certain null values and negative values.\n",
    "- Data cleaning is needed and standardisation of values also needed."
   ]
  },
  {
   "cell_type": "markdown",
   "id": "6e540317",
   "metadata": {},
   "source": [
    "#### Identify the null values"
   ]
  },
  {
   "cell_type": "code",
   "execution_count": null,
   "id": "c88789b2",
   "metadata": {
    "scrolled": true
   },
   "outputs": [],
   "source": [
    "# find null values\n",
    "null_values=inp0.isnull().sum()\n",
    "null_values"
   ]
  },
  {
   "cell_type": "markdown",
   "id": "733d40e0",
   "metadata": {},
   "source": [
    "#### Handling missing values"
   ]
  },
  {
   "cell_type": "code",
   "execution_count": null,
   "id": "69910a18",
   "metadata": {},
   "outputs": [],
   "source": [
    "null_values = round(inp0.isnull().sum()*100/len(inp0),2)"
   ]
  },
  {
   "cell_type": "code",
   "execution_count": null,
   "id": "284a3c30",
   "metadata": {},
   "outputs": [],
   "source": [
    "# identify data with more than 50% missing values\n",
    "null_values_50 = null_values[null_values>50]\n",
    "null_values_50"
   ]
  },
  {
   "cell_type": "code",
   "execution_count": null,
   "id": "78ecca3a",
   "metadata": {},
   "outputs": [],
   "source": [
    "#Total number of columns with more than 50% missing values\n",
    "len(null_values_50)"
   ]
  },
  {
   "cell_type": "code",
   "execution_count": null,
   "id": "f3ff5138",
   "metadata": {},
   "outputs": [],
   "source": [
    "# Remove these 41 columns\n",
    "null_values_50.index"
   ]
  },
  {
   "cell_type": "code",
   "execution_count": null,
   "id": "08342c04",
   "metadata": {},
   "outputs": [],
   "source": [
    "\n",
    "inp0.drop(columns=null_values_50.index, inplace=True)\n",
    "inp0.shape"
   ]
  },
  {
   "cell_type": "code",
   "execution_count": null,
   "id": "00e525b8",
   "metadata": {},
   "outputs": [],
   "source": [
    "null_values = round(inp0.isnull().sum()*100/len(inp0),2)\n",
    "null_values"
   ]
  },
  {
   "cell_type": "code",
   "execution_count": null,
   "id": "4b3ad5e5",
   "metadata": {},
   "outputs": [],
   "source": [
    "#Droping columns comprising more than 20% null values other than Occupation_Type\n",
    "null_values_20=null_values[null_values>20]\n",
    "null_values_20"
   ]
  },
  {
   "cell_type": "code",
   "execution_count": null,
   "id": "8823c20e",
   "metadata": {},
   "outputs": [],
   "source": [
    "# Droping occupation type from null value data\n",
    "null_values_20.drop([\"OCCUPATION_TYPE\"],inplace = True)\n",
    "null_values_20"
   ]
  },
  {
   "cell_type": "code",
   "execution_count": null,
   "id": "3b25f777",
   "metadata": {},
   "outputs": [],
   "source": [
    "inp0.drop(columns=null_values_20.index,inplace=True)\n",
    "inp0.shape"
   ]
  },
  {
   "cell_type": "code",
   "execution_count": null,
   "id": "7ec3058d",
   "metadata": {},
   "outputs": [],
   "source": [
    "inp0.isnull().sum().sum()"
   ]
  },
  {
   "cell_type": "code",
   "execution_count": null,
   "id": "a7802bc8",
   "metadata": {
    "scrolled": true
   },
   "outputs": [],
   "source": [
    "null_values = round(inp0.isnull().sum()*100/len(inp0),2)\n",
    "null_values.head()"
   ]
  },
  {
   "cell_type": "code",
   "execution_count": null,
   "id": "2eeaa56c",
   "metadata": {},
   "outputs": [],
   "source": [
    "inp0.shape"
   ]
  },
  {
   "cell_type": "code",
   "execution_count": null,
   "id": "4c6abe11",
   "metadata": {},
   "outputs": [],
   "source": [
    "#Identify unnecessory columns and drom them\n",
    "inp0.head(10)\n",
    "unnec_col=[\"FLAG_DOCUMENT_2\",\"FLAG_DOCUMENT_3\",\"FLAG_DOCUMENT_4\",\"FLAG_DOCUMENT_5\",\"FLAG_DOCUMENT_6\",\"FLAG_DOCUMENT_7\",\"FLAG_DOCUMENT_8\",\"FLAG_DOCUMENT_9\",\"FLAG_DOCUMENT_10\",\"FLAG_DOCUMENT_11\",\"FLAG_DOCUMENT_12\",\"FLAG_DOCUMENT_13\",\"FLAG_DOCUMENT_14\",\"FLAG_DOCUMENT_15\",\"FLAG_DOCUMENT_16\",\"FLAG_DOCUMENT_17\",\"FLAG_DOCUMENT_18\",\"FLAG_DOCUMENT_19\",\"FLAG_DOCUMENT_20\",\"FLAG_DOCUMENT_21\"]\n",
    "inp0.drop(labels=unnec_col, axis=1,inplace=True)\n",
    "inp0.head()"
   ]
  },
  {
   "cell_type": "code",
   "execution_count": null,
   "id": "43f8a62a",
   "metadata": {},
   "outputs": [],
   "source": [
    "inp0.shape"
   ]
  },
  {
   "cell_type": "code",
   "execution_count": null,
   "id": "cdf8990f",
   "metadata": {},
   "outputs": [],
   "source": [
    "inp0.isnull().sum().sum()\n",
    "inp0.head()"
   ]
  },
  {
   "cell_type": "markdown",
   "id": "4546db55",
   "metadata": {},
   "source": [
    "#### Inputing values"
   ]
  },
  {
   "cell_type": "code",
   "execution_count": null,
   "id": "69b50d8c",
   "metadata": {},
   "outputs": [],
   "source": [
    "#Treating columns that are in numeric value\n",
    "# Treating important columns\n",
    "inp0.AMT_ANNUITY.isnull().sum()"
   ]
  },
  {
   "cell_type": "code",
   "execution_count": null,
   "id": "5473ec8a",
   "metadata": {},
   "outputs": [],
   "source": [
    "#Replace with mean of particular column\n",
    "amt_annuity_mean=inp0.AMT_ANNUITY.mean()\n",
    "amt_annuity_mean"
   ]
  },
  {
   "cell_type": "code",
   "execution_count": null,
   "id": "4184e16f",
   "metadata": {},
   "outputs": [],
   "source": [
    "inp0.AMT_ANNUITY.fillna(amt_annuity_mean,inplace= True)\n",
    "inp0.AMT_ANNUITY.value_counts(normalize=True)"
   ]
  },
  {
   "cell_type": "code",
   "execution_count": null,
   "id": "44b08d1e",
   "metadata": {},
   "outputs": [],
   "source": [
    "#cross check for null values\n",
    "inp0.AMT_ANNUITY.isnull().sum()"
   ]
  },
  {
   "cell_type": "code",
   "execution_count": null,
   "id": "4b2fad3d",
   "metadata": {},
   "outputs": [],
   "source": [
    "#Occupation Type that is categorical variable \n",
    "inp0.OCCUPATION_TYPE.describe()"
   ]
  },
  {
   "cell_type": "code",
   "execution_count": null,
   "id": "0acf164b",
   "metadata": {},
   "outputs": [],
   "source": [
    "# Make another column which are having null values in occupation Type.\n",
    "inp0[\"OCCUPATION_TYPE\"]=inp0[\"OCCUPATION_TYPE\"].fillna(\"Unidentified\")\n",
    "#cross check for null values in OCCUPATION_TYPE\n",
    "inp0[\"OCCUPATION_TYPE\"].isnull().sum()"
   ]
  },
  {
   "cell_type": "code",
   "execution_count": null,
   "id": "6d868e6f",
   "metadata": {},
   "outputs": [],
   "source": [
    "#Recheck columns\n",
    "inp0.columns"
   ]
  },
  {
   "cell_type": "code",
   "execution_count": null,
   "id": "0217b35e",
   "metadata": {},
   "outputs": [],
   "source": [
    "# Add null values for another columns\n",
    "inp0.isnull().sum()"
   ]
  },
  {
   "cell_type": "code",
   "execution_count": null,
   "id": "7be5b00a",
   "metadata": {
    "scrolled": false
   },
   "outputs": [],
   "source": [
    "# Now first fill null values for EXT_SOURCE_3 \n",
    "inp0[[\"EXT_SOURCE_2\",\"EXT_SOURCE_3\",\"AMT_REQ_CREDIT_BUREAU_HOUR\",\"AMT_REQ_CREDIT_BUREAU_DAY\",\"AMT_REQ_CREDIT_BUREAU_WEEK\",\"AMT_REQ_CREDIT_BUREAU_MON\",\"AMT_REQ_CREDIT_BUREAU_QRT\",\"AMT_REQ_CREDIT_BUREAU_YEAR\"]].describe()"
   ]
  },
  {
   "cell_type": "code",
   "execution_count": null,
   "id": "2c6eda1d",
   "metadata": {},
   "outputs": [],
   "source": [
    "# To make it easy create variable ext3_amt_credit\n",
    "ext_amt_credit=[\"EXT_SOURCE_2\",\"EXT_SOURCE_3\",\"AMT_REQ_CREDIT_BUREAU_HOUR\",\"AMT_REQ_CREDIT_BUREAU_DAY\",\"AMT_REQ_CREDIT_BUREAU_WEEK\",\"AMT_REQ_CREDIT_BUREAU_MON\",\"AMT_REQ_CREDIT_BUREAU_QRT\",\"AMT_REQ_CREDIT_BUREAU_YEAR\"]"
   ]
  },
  {
   "cell_type": "code",
   "execution_count": null,
   "id": "8d4957bc",
   "metadata": {},
   "outputs": [],
   "source": [
    "# fill null values by median values\n",
    "inp0.fillna(inp0[ext_amt_credit].median(),inplace=True)            \n",
    "inp0.isnull().sum()"
   ]
  },
  {
   "cell_type": "code",
   "execution_count": null,
   "id": "d5951a48",
   "metadata": {
    "scrolled": true
   },
   "outputs": [],
   "source": [
    "inp0.head()"
   ]
  },
  {
   "cell_type": "code",
   "execution_count": null,
   "id": "43d35e90",
   "metadata": {},
   "outputs": [],
   "source": [
    "#Treatment of Name type suite\n",
    "inp0.NAME_TYPE_SUITE.describe()"
   ]
  },
  {
   "cell_type": "code",
   "execution_count": null,
   "id": "e2af24fb",
   "metadata": {},
   "outputs": [],
   "source": [
    "#Unique value is 7 and top value is unaccompanied so replace null values with it\n",
    "inp0[\"NAME_TYPE_SUITE\"]=inp0[\"NAME_TYPE_SUITE\"].fillna(\"Unaccompanied\")\n",
    "#cross check for null values in OCCUPATION_TYPE\n",
    "inp0[\"NAME_TYPE_SUITE\"].isnull().sum()"
   ]
  },
  {
   "cell_type": "code",
   "execution_count": null,
   "id": "1e79c086",
   "metadata": {},
   "outputs": [],
   "source": [
    "#Treatment of Obs and def columns\n",
    "inp0[[\"OBS_30_CNT_SOCIAL_CIRCLE\",\"DEF_30_CNT_SOCIAL_CIRCLE\",\"OBS_60_CNT_SOCIAL_CIRCLE\",\"DEF_60_CNT_SOCIAL_CIRCLE\"]].describe()"
   ]
  },
  {
   "cell_type": "code",
   "execution_count": null,
   "id": "1d8fb697",
   "metadata": {},
   "outputs": [],
   "source": [
    "#create variable\n",
    "obs_def=[\"OBS_30_CNT_SOCIAL_CIRCLE\",\"DEF_30_CNT_SOCIAL_CIRCLE\",\"OBS_60_CNT_SOCIAL_CIRCLE\",\"DEF_60_CNT_SOCIAL_CIRCLE\"]"
   ]
  },
  {
   "cell_type": "code",
   "execution_count": null,
   "id": "e3091b89",
   "metadata": {
    "scrolled": true
   },
   "outputs": [],
   "source": [
    "#replace with mean\n",
    "inp0.fillna(inp0[obs_def].median(),inplace=True)            \n",
    "inp0.isnull().sum()"
   ]
  },
  {
   "cell_type": "code",
   "execution_count": null,
   "id": "ec5ade7a",
   "metadata": {},
   "outputs": [],
   "source": [
    "#check remaining columns to check standardisation \n",
    "column_days = [\"DAYS_BIRTH\",\"DAYS_EMPLOYED\",\"DAYS_REGISTRATION\",\"DAYS_ID_PUBLISH\",\"DAYS_LAST_PHONE_CHANGE\"]\n",
    "inp0[column_days].describe()"
   ]
  },
  {
   "cell_type": "code",
   "execution_count": null,
   "id": "5a726ce6",
   "metadata": {
    "scrolled": true
   },
   "outputs": [],
   "source": [
    "#correcting negative values\n",
    "inp0[column_days]=abs(inp0[column_days])\n",
    "inp0[column_days].describe()\n"
   ]
  },
  {
   "cell_type": "code",
   "execution_count": null,
   "id": "5bf13bce",
   "metadata": {},
   "outputs": [],
   "source": [
    "# Convert columns-DAYS_BIRTH ad DAYS_EMPLOYED to YEARS\n",
    "inp0[\"AGE\"]= inp0[\"DAYS_BIRTH\"]/365\n",
    "bins=[0,20,30,40,50,60,100]\n",
    "bin_category=[\"0-20\",\"20-30\",\"30-40\",\"40-50\",\"50-60\",\"60 Above\"]\n",
    "inp0[\"AGE_RANGE\"]=pd.cut(inp0[\"AGE\"],bins=bins,labels=bin_category)"
   ]
  },
  {
   "cell_type": "code",
   "execution_count": null,
   "id": "8f41bfae",
   "metadata": {
    "scrolled": true
   },
   "outputs": [],
   "source": [
    "inp0[\"AGE_RANGE\"].value_counts(normalize=True)*100"
   ]
  },
  {
   "cell_type": "code",
   "execution_count": null,
   "id": "de671c09",
   "metadata": {},
   "outputs": [],
   "source": [
    "inp0[\"EMPLOYMENT_YEARS\"]= inp0[\"DAYS_EMPLOYED\"]/365\n",
    "bins=[0,5,10,15,20,25,30,35,40,45,50]\n",
    "bin_category=[\"0-5\",\"5-10\",\"10-15\",\"15-20\",\"20-25\",\"25-30\",\"30-35\",\"35-40\",\"40-45\",\"45 Above\"]\n",
    "inp0[\"EMPLOYMENT_YEARS_RANGE\"]=pd.cut(inp0[\"EMPLOYMENT_YEARS\"],bins=bins,labels=bin_category)"
   ]
  },
  {
   "cell_type": "code",
   "execution_count": null,
   "id": "de1168c1",
   "metadata": {
    "scrolled": true
   },
   "outputs": [],
   "source": [
    "inp0[\"EMPLOYMENT_YEARS_RANGE\"].value_counts(normalize=True)*100"
   ]
  },
  {
   "cell_type": "markdown",
   "id": "fba807ff",
   "metadata": {},
   "source": [
    "### Outlier handling"
   ]
  },
  {
   "cell_type": "code",
   "execution_count": null,
   "id": "f1f436ec",
   "metadata": {
    "scrolled": true
   },
   "outputs": [],
   "source": [
    "inp0.describe()"
   ]
  },
  {
   "cell_type": "markdown",
   "id": "3e6b96fa",
   "metadata": {},
   "source": [
    "#### With the help of description we can identify columns that contain outliers as it will provide a difference between max and different percentile."
   ]
  },
  {
   "cell_type": "code",
   "execution_count": null,
   "id": "ce687308",
   "metadata": {},
   "outputs": [],
   "source": [
    "#important columns with outliers(variables)\n",
    "plt.figure(figsize=(11,3))\n",
    "sns.boxplot(inp0.CNT_CHILDREN)\n",
    "plt.show()\n",
    "\n",
    "plt.figure(figsize=(11,3))\n",
    "sns.boxplot(inp0.AMT_INCOME_TOTAL)\n",
    "plt.show()\n",
    "\n",
    "plt.figure(figsize=(11,3))\n",
    "sns.boxplot(inp0.AMT_CREDIT)\n",
    "plt.show()\n",
    "\n",
    "plt.figure(figsize=(11,3))\n",
    "sns.boxplot(inp0.AMT_ANNUITY)\n",
    "plt.show()\n",
    "\n",
    "plt.figure(figsize=(11,3))\n",
    "sns.boxplot(inp0.AMT_GOODS_PRICE)\n",
    "plt.show()\n",
    "\n",
    "plt.figure(figsize=(11,3))\n",
    "sns.boxplot(inp0.DAYS_BIRTH)\n",
    "plt.show()\n",
    "\n",
    "plt.figure(figsize=(11,3))\n",
    "sns.boxplot(inp0.DAYS_EMPLOYED)\n",
    "plt.show()\n",
    "\n"
   ]
  },
  {
   "cell_type": "markdown",
   "id": "8016bab0",
   "metadata": {},
   "source": [
    "#### Insight:\n",
    " \n",
    " From application data we can say that\n",
    " - There are certain outliers available in CNT_CHILDREN,AMT_CREDIT,AMT_ANNUITY,AMT_GOODS_PRICE.\n",
    " - DAYS_BIRTH column is reliable because there are no outliers in it.\n",
    " - AMT_INCOME_TOTAL has many outliers; it means there is a very big difference of income amongst the loan applicants.\n",
    " - DAYS_EMPLOYED shows incorrect entry as days employed can not be 350000."
   ]
  },
  {
   "cell_type": "code",
   "execution_count": null,
   "id": "1e2309d4",
   "metadata": {},
   "outputs": [],
   "source": [
    "#Handle outliers by using bin\n",
    "inp0.AMT_INCOME_TOTAL.describe()"
   ]
  },
  {
   "cell_type": "code",
   "execution_count": null,
   "id": "d1df9426",
   "metadata": {},
   "outputs": [],
   "source": [
    "#create bins for AMT_INCOME_TOTAL\n",
    "\n",
    "bins=[0,150000,300000,450000,600000,750000]\n",
    "binned_category=[\"Very Low\",\"Low\",\"Medium\",\"High\",\"Very High\"]\n",
    "inp0[\"AMT_INCOME_RANGE\"]=pd.cut(inp0[\"AMT_INCOME_TOTAL\"],bins=bins,labels=binned_category)\n"
   ]
  },
  {
   "cell_type": "code",
   "execution_count": null,
   "id": "980d4dd9",
   "metadata": {},
   "outputs": [],
   "source": [
    "inp0.AMT_CREDIT.describe()"
   ]
  },
  {
   "cell_type": "code",
   "execution_count": null,
   "id": "cf79c816",
   "metadata": {},
   "outputs": [],
   "source": [
    "#create bins for AMT_CREDIT\n",
    "bins=[0,200000,400000,600000,800000,1000000]\n",
    "binned_category=[\"Very Low\",\"Low\",\"Medium\",\"High\",\"Very High\"]\n",
    "inp0[\"AMT_CREDIT_RANGE\"]=pd.cut(inp0[\"AMT_CREDIT\"],bins=bins,labels=binned_category)\n",
    "inp0"
   ]
  },
  {
   "cell_type": "code",
   "execution_count": null,
   "id": "9137937e",
   "metadata": {},
   "outputs": [],
   "source": [
    "#identify unique entries\n",
    "inp0.nunique().sort_values(ascending=False)"
   ]
  },
  {
   "cell_type": "code",
   "execution_count": null,
   "id": "15d2fb13",
   "metadata": {
    "scrolled": true
   },
   "outputs": [],
   "source": [
    "inp0.info()"
   ]
  },
  {
   "cell_type": "code",
   "execution_count": null,
   "id": "b99f3592",
   "metadata": {},
   "outputs": [],
   "source": [
    "#Convert important columns to cateorial column\n",
    "inp0.columns"
   ]
  },
  {
   "cell_type": "code",
   "execution_count": null,
   "id": "a0fc01a9",
   "metadata": {},
   "outputs": [],
   "source": [
    "converted_columns = [\"NAME_CONTRACT_TYPE\",\"CODE_GENDER\",\"FLAG_OWN_REALTY\",\"NAME_TYPE_SUITE\",\"NAME_INCOME_TYPE\",\"NAME_EDUCATION_TYPE\",\n",
    "                       \"NAME_FAMILY_STATUS\",\"NAME_HOUSING_TYPE\",\"OCCUPATION_TYPE\",\"WEEKDAY_APPR_PROCESS_START\",\n",
    "                       \"ORGANIZATION_TYPE\",\"REG_REGION_NOT_WORK_REGION\",\"LIVE_REGION_NOT_WORK_REGION\"]\n",
    "\n",
    "for column in converted_columns:\n",
    "    inp0[column] = pd.Categorical(inp0[column])\n"
   ]
  },
  {
   "cell_type": "code",
   "execution_count": null,
   "id": "5d79834b",
   "metadata": {},
   "outputs": [],
   "source": [
    "inp0.info()"
   ]
  },
  {
   "cell_type": "code",
   "execution_count": null,
   "id": "e2be87b5",
   "metadata": {},
   "outputs": [],
   "source": [
    "inp0.shape"
   ]
  },
  {
   "cell_type": "markdown",
   "id": "d4503578",
   "metadata": {},
   "source": [
    "## Dataset2-previous_application"
   ]
  },
  {
   "cell_type": "markdown",
   "id": "ac24f70d",
   "metadata": {},
   "source": [
    "#### Read the dataset\n"
   ]
  },
  {
   "cell_type": "code",
   "execution_count": null,
   "id": "4539ceba",
   "metadata": {},
   "outputs": [],
   "source": [
    "inp1 = pd.read_csv(r\"C:\\Users\\saval\\Desktop\\previous_application.csv\")\n",
    "inp1.head()"
   ]
  },
  {
   "cell_type": "markdown",
   "id": "055757c8",
   "metadata": {},
   "source": [
    "#### checking size of the data\n"
   ]
  },
  {
   "cell_type": "code",
   "execution_count": null,
   "id": "6e9392a2",
   "metadata": {},
   "outputs": [],
   "source": [
    "inp1.shape"
   ]
  },
  {
   "cell_type": "code",
   "execution_count": null,
   "id": "6301e79b",
   "metadata": {},
   "outputs": [],
   "source": [
    "inp1.columns"
   ]
  },
  {
   "cell_type": "code",
   "execution_count": null,
   "id": "b8e9092d",
   "metadata": {},
   "outputs": [],
   "source": [
    "#Describing the data\n",
    "inp1.describe()"
   ]
  },
  {
   "cell_type": "code",
   "execution_count": null,
   "id": "b5018484",
   "metadata": {},
   "outputs": [],
   "source": [
    "#Describing the data\n",
    "inp1.describe()"
   ]
  },
  {
   "cell_type": "markdown",
   "id": "c7993b17",
   "metadata": {},
   "source": [
    "#### Insight:\n",
    "- From the above reading we can get certain details such as we have 1670214 rows and 30 columns.\n",
    "- There are certain null values and negative values.\n",
    "- Data cleaning is needed and standardisation of values also needed."
   ]
  },
  {
   "cell_type": "markdown",
   "id": "3189cccf",
   "metadata": {},
   "source": [
    "## Data Cleaning"
   ]
  },
  {
   "cell_type": "code",
   "execution_count": null,
   "id": "ade0b81c",
   "metadata": {},
   "outputs": [],
   "source": [
    "# find null values\n",
    "null_values=inp1.isnull().sum()\n",
    "null_values"
   ]
  },
  {
   "cell_type": "markdown",
   "id": "8ab63fa7",
   "metadata": {},
   "source": [
    "#### Handling missing values\n"
   ]
  },
  {
   "cell_type": "code",
   "execution_count": null,
   "id": "2aae749b",
   "metadata": {},
   "outputs": [],
   "source": [
    "null_values1 = round(inp1.isnull().sum()*100/len(inp1),2)"
   ]
  },
  {
   "cell_type": "code",
   "execution_count": null,
   "id": "48e2e333",
   "metadata": {},
   "outputs": [],
   "source": [
    "# identify data with more than 50% missing values\n",
    "null_values1_50 = null_values1[null_values1>50]\n",
    "null_values1_50"
   ]
  },
  {
   "cell_type": "code",
   "execution_count": null,
   "id": "6c674eff",
   "metadata": {},
   "outputs": [],
   "source": [
    "#Total number of columns with more than 50% missing values\n",
    "len(null_values1_50)"
   ]
  },
  {
   "cell_type": "code",
   "execution_count": null,
   "id": "67166357",
   "metadata": {},
   "outputs": [],
   "source": [
    "# Removing these 4 columns\n",
    "null_values1_50.index"
   ]
  },
  {
   "cell_type": "code",
   "execution_count": null,
   "id": "8a263c67",
   "metadata": {},
   "outputs": [],
   "source": [
    "inp1.drop(columns=null_values1_50.index, inplace=True)\n",
    "inp1.shape"
   ]
  },
  {
   "cell_type": "code",
   "execution_count": null,
   "id": "8e4df86a",
   "metadata": {},
   "outputs": [],
   "source": [
    "null_values1 = round(inp1.isnull().sum()*100/len(inp1),2)\n",
    "null_values1"
   ]
  },
  {
   "cell_type": "code",
   "execution_count": null,
   "id": "568a9b05",
   "metadata": {},
   "outputs": [],
   "source": [
    "#Droping columns comprising more than 20% null values other than Occupation_Type\n",
    "null_values1_20=null_values1[null_values1>20]\n",
    "null_values1_20"
   ]
  },
  {
   "cell_type": "code",
   "execution_count": null,
   "id": "887c476a",
   "metadata": {},
   "outputs": [],
   "source": [
    "inp1[null_values1_20.index]"
   ]
  },
  {
   "cell_type": "code",
   "execution_count": null,
   "id": "9c201ccd",
   "metadata": {},
   "outputs": [],
   "source": [
    "# Droping down unnecessary columns\n",
    "inp1.head(10)\n",
    "unnec_col1=[\"WEEKDAY_APPR_PROCESS_START\",\"HOUR_APPR_PROCESS_START\",\n",
    "       \"FLAG_LAST_APPL_PER_CONTRACT\",\"NFLAG_LAST_APPL_IN_DAY\"]\n",
    "inp1.drop(labels=unnec_col1, axis=1,inplace=True)\n",
    "inp1.head()"
   ]
  },
  {
   "cell_type": "code",
   "execution_count": null,
   "id": "a8e9ae99",
   "metadata": {},
   "outputs": [],
   "source": [
    "inp1.shape"
   ]
  },
  {
   "cell_type": "code",
   "execution_count": null,
   "id": "23771dc9",
   "metadata": {},
   "outputs": [],
   "source": [
    "# Treatment of imp columns\n",
    "#Treating null values in the column AMT_ANNUITY\n",
    "\n",
    "inp1.AMT_ANNUITY.isnull().sum()"
   ]
  },
  {
   "cell_type": "code",
   "execution_count": null,
   "id": "57b20907",
   "metadata": {},
   "outputs": [],
   "source": [
    "#Here the data of this column is skewed that is the reason null values are replaced with the median.\n",
    "amt_annuity_median=inp1.AMT_ANNUITY.median()\n",
    "amt_annuity_median"
   ]
  },
  {
   "cell_type": "code",
   "execution_count": null,
   "id": "3428a571",
   "metadata": {},
   "outputs": [],
   "source": [
    "# Replacing null values with median \n",
    "inp1.AMT_ANNUITY.fillna(amt_annuity_median,inplace= True)\n",
    "inp1.AMT_ANNUITY.value_counts(normalize=True)"
   ]
  },
  {
   "cell_type": "code",
   "execution_count": null,
   "id": "ee37ec1b",
   "metadata": {},
   "outputs": [],
   "source": [
    "# Rechecking null values in column AMT_ANNUITY\n",
    "inp1.AMT_ANNUITY.isnull().sum()"
   ]
  },
  {
   "cell_type": "code",
   "execution_count": null,
   "id": "d64aa49b",
   "metadata": {},
   "outputs": [],
   "source": [
    "inp1.isnull().sum()"
   ]
  },
  {
   "cell_type": "code",
   "execution_count": null,
   "id": "73843055",
   "metadata": {},
   "outputs": [],
   "source": [
    "inp1.info()"
   ]
  },
  {
   "cell_type": "code",
   "execution_count": null,
   "id": "5cd1dce5",
   "metadata": {},
   "outputs": [],
   "source": [
    "#Treating null values in the column AMT_GOODS_PRICE\n",
    "inp1.AMT_GOODS_PRICE.isnull().sum()"
   ]
  },
  {
   "cell_type": "code",
   "execution_count": null,
   "id": "c38c5106",
   "metadata": {},
   "outputs": [],
   "source": [
    "#Here the data of this column is skewed that is the reason null values are replaced with the median.\n",
    "amt_goods_price_median=inp1.AMT_ANNUITY.median()\n",
    "amt_goods_price_median"
   ]
  },
  {
   "cell_type": "code",
   "execution_count": null,
   "id": "c8c7ffd1",
   "metadata": {},
   "outputs": [],
   "source": [
    "# Replacing null values with median \n",
    "inp1.AMT_GOODS_PRICE.fillna(amt_goods_price_median,inplace= True)\n",
    "inp1.AMT_GOODS_PRICE.value_counts(normalize=True)"
   ]
  },
  {
   "cell_type": "code",
   "execution_count": null,
   "id": "be4376b9",
   "metadata": {},
   "outputs": [],
   "source": [
    "#Rechecking null values in column AMT_GOODS_PRICE\n",
    "inp1.AMT_GOODS_PRICE.isnull().sum()"
   ]
  },
  {
   "cell_type": "code",
   "execution_count": null,
   "id": "0a7fff94",
   "metadata": {},
   "outputs": [],
   "source": [
    "inp1.info()"
   ]
  },
  {
   "cell_type": "code",
   "execution_count": null,
   "id": "dc254a99",
   "metadata": {},
   "outputs": [],
   "source": [
    "#Treating null values in the column CNT_PAYMENT\n",
    "\n",
    "inp1.CNT_PAYMENT.isnull().sum()"
   ]
  },
  {
   "cell_type": "code",
   "execution_count": null,
   "id": "801e4668",
   "metadata": {},
   "outputs": [],
   "source": [
    "#Here the data of this column is skewed that is the reason null values are replaced with the median.\n",
    "cnt_payment_median=inp1.CNT_PAYMENT.median()\n",
    "cnt_payment_median"
   ]
  },
  {
   "cell_type": "code",
   "execution_count": null,
   "id": "a3537e04",
   "metadata": {},
   "outputs": [],
   "source": [
    "# Replacing null values with median \n",
    "inp1.CNT_PAYMENT.fillna(cnt_payment_median,inplace= True)\n",
    "inp1.CNT_PAYMENT.value_counts(normalize=True)"
   ]
  },
  {
   "cell_type": "code",
   "execution_count": null,
   "id": "60c8afe5",
   "metadata": {},
   "outputs": [],
   "source": [
    "inp1.CNT_PAYMENT.isnull().sum()"
   ]
  },
  {
   "cell_type": "code",
   "execution_count": null,
   "id": "1a7f3d45",
   "metadata": {},
   "outputs": [],
   "source": [
    "inp1.head()"
   ]
  },
  {
   "cell_type": "code",
   "execution_count": null,
   "id": "b294f9a6",
   "metadata": {},
   "outputs": [],
   "source": [
    "#Treating null values of column NAME_TYPE_SUITE\n",
    "inp1.NAME_TYPE_SUITE.describe()"
   ]
  },
  {
   "cell_type": "code",
   "execution_count": null,
   "id": "9ea2f8f0",
   "metadata": {},
   "outputs": [],
   "source": [
    "#Unique value is 7 and top value is Unaccompanied so replace null values with it\n",
    "inp1[\"NAME_TYPE_SUITE\"]=inp1[\"NAME_TYPE_SUITE\"].fillna(\"Unaccompanied\")\n",
    "#cross check for null values in OCCUPATION_TYPE\n",
    "inp1[\"NAME_TYPE_SUITE\"].isnull().sum()"
   ]
  },
  {
   "cell_type": "code",
   "execution_count": null,
   "id": "867b43e1",
   "metadata": {},
   "outputs": [],
   "source": [
    "inp1.isnull().sum()"
   ]
  },
  {
   "cell_type": "code",
   "execution_count": null,
   "id": "58b74f08",
   "metadata": {},
   "outputs": [],
   "source": [
    "#check remaining columns to check standardisation \n",
    "column_days1 = [\"DAYS_FIRST_DRAWING\",\"DAYS_FIRST_DUE\",\"DAYS_LAST_DUE_1ST_VERSION\",\"DAYS_LAST_DUE\",\"DAYS_TERMINATION\"]\n",
    "inp1[column_days1].describe()"
   ]
  },
  {
   "cell_type": "code",
   "execution_count": null,
   "id": "192bf5c0",
   "metadata": {},
   "outputs": [],
   "source": [
    "#correcting negative values\n",
    "inp1[column_days1]=abs(inp1[column_days1])\n",
    "inp1[column_days1].describe()"
   ]
  },
  {
   "cell_type": "code",
   "execution_count": null,
   "id": "15874784",
   "metadata": {},
   "outputs": [],
   "source": [
    "inp1.isnull().sum()"
   ]
  },
  {
   "cell_type": "code",
   "execution_count": null,
   "id": "b7de46bb",
   "metadata": {},
   "outputs": [],
   "source": [
    "inp1.info()"
   ]
  },
  {
   "cell_type": "code",
   "execution_count": null,
   "id": "6bbe1f15",
   "metadata": {},
   "outputs": [],
   "source": [
    "# fill null values of remaining important columns\n",
    "days_installments=[\"DAYS_FIRST_DRAWING\",\"DAYS_FIRST_DUE\",\"DAYS_LAST_DUE_1ST_VERSION\",\"DAYS_LAST_DUE\",\"DAYS_TERMINATION\"]\n",
    "\n",
    "inp1.fillna(inp1[days_installments].median(),inplace=True)        \n",
    "inp1.isnull().sum()\n"
   ]
  },
  {
   "cell_type": "code",
   "execution_count": null,
   "id": "366be550",
   "metadata": {},
   "outputs": [],
   "source": [
    "# fill null values of remaining important columns\n",
    "\n",
    "inp1.NFLAG_INSURED_ON_APPROVAL.fillna(0,inplace=True)        \n",
    "inp1.isnull().sum()"
   ]
  },
  {
   "cell_type": "markdown",
   "id": "079eb955",
   "metadata": {},
   "source": [
    "### Outlier Handling"
   ]
  },
  {
   "cell_type": "code",
   "execution_count": null,
   "id": "ce26c7fa",
   "metadata": {},
   "outputs": [],
   "source": [
    "inp1.describe()"
   ]
  },
  {
   "cell_type": "markdown",
   "id": "d3f1befc",
   "metadata": {},
   "source": [
    "#### With the help of description we can identify columns that contain outliers as it will provide a difference between max and different percentile.\n"
   ]
  },
  {
   "cell_type": "code",
   "execution_count": null,
   "id": "090b2cfb",
   "metadata": {},
   "outputs": [],
   "source": [
    "#important columns with outliers(variables)\n",
    "plt.figure(figsize=(11,3))\n",
    "sns.boxplot(inp1.AMT_ANNUITY)\n",
    "plt.show()\n",
    "\n",
    "plt.figure(figsize=(11,3))\n",
    "sns.boxplot(inp1.AMT_APPLICATION)\n",
    "plt.show()\n",
    "\n",
    "plt.figure(figsize=(11,3))\n",
    "sns.boxplot(inp1.AMT_CREDIT)\n",
    "plt.show()\n",
    "\n",
    "plt.figure(figsize=(11,3))\n",
    "sns.boxplot(inp1.AMT_GOODS_PRICE)\n",
    "plt.show()\n",
    "\n",
    "plt.figure(figsize=(11,3))\n",
    "sns.boxplot(inp1.DAYS_DECISION)\n",
    "plt.show()\n",
    "\n",
    "plt.figure(figsize=(11,3))\n",
    "sns.boxplot(inp1.SELLERPLACE_AREA)\n",
    "plt.show()\n",
    "\n",
    "plt.figure(figsize=(11,3))\n",
    "sns.boxplot(inp1.CNT_PAYMENT)\n",
    "plt.show()"
   ]
  },
  {
   "cell_type": "markdown",
   "id": "1309722f",
   "metadata": {},
   "source": [
    "#### Insight:\n",
    "From application data we can say that\n",
    "\n",
    "- There are huge numbers of outliers available in AMT_ANNUITY,AMT_APPLICATION,AMT_CREDIT,AMT_GOODS_PRICE,CNT_PAYMENT.\n",
    "- DAYS_DECISION has few numbers of outliers.\n",
    "- SELLERPLACE_AREA has also, outliers in high numbers."
   ]
  },
  {
   "cell_type": "code",
   "execution_count": null,
   "id": "eb4ed019",
   "metadata": {},
   "outputs": [],
   "source": [
    "#create bins for AMT_APPLICATION\n",
    "\n",
    "bins=[0,150000,300000,450000,600000,750000]\n",
    "binned_category=[\"Very Low\",\"Low\",\"Medium\",\"High\",\"Very High\"]\n",
    "inp1[\"AMT_APPLICATION_RANGE\"]=pd.cut(inp1[\"AMT_APPLICATION\"],bins=bins,labels=binned_category)"
   ]
  },
  {
   "cell_type": "code",
   "execution_count": null,
   "id": "7981adad",
   "metadata": {},
   "outputs": [],
   "source": [
    "inp1.AMT_APPLICATION.head()"
   ]
  },
  {
   "cell_type": "code",
   "execution_count": null,
   "id": "e8686a28",
   "metadata": {},
   "outputs": [],
   "source": [
    "#identify unique entries\n",
    "inp1.nunique().sort_values(ascending=False)"
   ]
  },
  {
   "cell_type": "code",
   "execution_count": null,
   "id": "76c6fbcf",
   "metadata": {},
   "outputs": [],
   "source": [
    "inp1.info()"
   ]
  },
  {
   "cell_type": "code",
   "execution_count": null,
   "id": "5a6270fc",
   "metadata": {},
   "outputs": [],
   "source": [
    "#Convert important columns to cateorial column\n",
    "inp1.columns"
   ]
  },
  {
   "cell_type": "code",
   "execution_count": null,
   "id": "a27ac474",
   "metadata": {},
   "outputs": [],
   "source": [
    "converted_columns1 = [\"NAME_CASH_LOAN_PURPOSE\",\"NAME_CONTRACT_STATUS\",\"NAME_PAYMENT_TYPE\",\"CODE_REJECT_REASON\",\"NAME_TYPE_SUITE\",\"NAME_CLIENT_TYPE\",\"NAME_GOODS_CATEGORY\",\"NAME_PORTFOLIO\",\"NAME_PRODUCT_TYPE\",\"CHANNEL_TYPE\",\"NAME_SELLER_INDUSTRY\",\"NAME_YIELD_GROUP\",\"PRODUCT_COMBINATION\"]                    \n",
    "    \n",
    "for column in converted_columns1:\n",
    "    inp1[column] = pd.Categorical(inp1[column])"
   ]
  },
  {
   "cell_type": "code",
   "execution_count": null,
   "id": "c3553cf1",
   "metadata": {},
   "outputs": [],
   "source": [
    "inp1.info()"
   ]
  },
  {
   "cell_type": "code",
   "execution_count": null,
   "id": "ab64c2d5",
   "metadata": {},
   "outputs": [],
   "source": [
    "inp1.shape"
   ]
  },
  {
   "cell_type": "markdown",
   "id": "8b00f48e",
   "metadata": {},
   "source": [
    "#### ANALYSIS"
   ]
  },
  {
   "cell_type": "markdown",
   "id": "2af9ca5a",
   "metadata": {},
   "source": [
    "##### Checking imbalance percentage\n"
   ]
  },
  {
   "cell_type": "code",
   "execution_count": null,
   "id": "a2763d27",
   "metadata": {},
   "outputs": [],
   "source": [
    "inp0[\"TARGET\"].value_counts(normalize=True)*100"
   ]
  },
  {
   "cell_type": "markdown",
   "id": "fb1cab20",
   "metadata": {},
   "source": [
    "- There is data imbalance in TARGET\n",
    "Repayer percentage is 91.93(Approx).\n",
    "Defaulter percentage is 8.07(Approx)."
   ]
  },
  {
   "cell_type": "code",
   "execution_count": null,
   "id": "34cff78e",
   "metadata": {},
   "outputs": [],
   "source": [
    "plt.pie(inp0[\"TARGET\"].value_counts(normalize=True)*100,labels=[\"REPAYER (TARGET=0)\",\"DEFAULTER (TARGET=1)\"],explode=(0,0.05),autopct=\"%1.f%%\")\n",
    "plt.title(\"TARGET Variable - DEFAULTER Vs REPAYER\")\n",
    "plt.show()                                                                "
   ]
  },
  {
   "cell_type": "markdown",
   "id": "eba6a52a",
   "metadata": {},
   "source": [
    "#### Univariate analysis- categorical feautures\n"
   ]
  },
  {
   "cell_type": "code",
   "execution_count": null,
   "id": "ff63ecb9",
   "metadata": {},
   "outputs": [],
   "source": [
    "# Divinding TARGET variable into two parts target_1 is REPAYER and target_2 is DEFAULTER\n",
    "\n",
    "target_0 = inp0[inp0[\"TARGET\"]==0]\n",
    "target_1 = inp0[inp0[\"TARGET\"]==1]"
   ]
  },
  {
   "cell_type": "code",
   "execution_count": null,
   "id": "7d1f462e",
   "metadata": {},
   "outputs": [],
   "source": [
    "target_0.head()"
   ]
  },
  {
   "cell_type": "code",
   "execution_count": null,
   "id": "a4949ddc",
   "metadata": {},
   "outputs": [],
   "source": [
    "target_1.head()"
   ]
  },
  {
   "cell_type": "markdown",
   "id": "32006d75",
   "metadata": {},
   "source": [
    "#### Univariate Analysis for REPAYER and DEFAULTER for numeric variables"
   ]
  },
  {
   "cell_type": "code",
   "execution_count": null,
   "id": "3cf95a85",
   "metadata": {},
   "outputs": [],
   "source": [
    "inp0.info()"
   ]
  },
  {
   "cell_type": "markdown",
   "id": "bd2bd0fe",
   "metadata": {},
   "source": [
    "#### Age"
   ]
  },
  {
   "cell_type": "code",
   "execution_count": null,
   "id": "1f693353",
   "metadata": {},
   "outputs": [],
   "source": [
    "#Creating plots for Age_range for REPAYER\n",
    "plt.figure(figsize = (20,10))\n",
    "plt.subplot(3, 3, 2)\n",
    "plt.ylim(0,100000)\n",
    "plt.title(\"Target=0 : Age-REPAYER\")\n",
    "plt.xticks(rotation=45, ha='right')\n",
    "sns.countplot(target_0[\"AGE_RANGE\"])\n",
    "plt.show()\n",
    "\n",
    "\n",
    "#Creating plots for Age_range for DEFAULTER\n",
    "plt.figure(figsize = (20,10))\n",
    "plt.subplot(3, 3, 2)\n",
    "plt.ylim(0,100000)\n",
    "plt.title(\"Target=1 : Age-DEFAULDER\")\n",
    "plt.xticks(rotation=45, ha='right')\n",
    "sns.countplot(target_1[\"AGE_RANGE\"])\n",
    "plt.show()\n"
   ]
  },
  {
   "cell_type": "markdown",
   "id": "40b3396e",
   "metadata": {},
   "source": [
    "######  Insights:\n",
    "- Age range between 30 to 40 can be able to pay their loan on time also, by considering other factors age range 40-50 can be considered to provide a loan.\n",
    "- Also, with the same Age range these applicants are riskiest people to lend a loan.With increasing age defaulters are decreases."
   ]
  },
  {
   "cell_type": "markdown",
   "id": "0c3c276e",
   "metadata": {},
   "source": [
    "#### Employment years range"
   ]
  },
  {
   "cell_type": "code",
   "execution_count": null,
   "id": "0227bb7e",
   "metadata": {},
   "outputs": [],
   "source": [
    "#Creating plots for Employment_years_range for REPAYER\n",
    "plt.figure(figsize = (20,10))\n",
    "plt.subplot(3, 3, 2)\n",
    "plt.ylim(0,100000)\n",
    "plt.title(\"Target=0 : EMPLOYMENT_YEARS-REPAYER\")\n",
    "plt.xticks(rotation=45, ha='right')\n",
    "sns.countplot(target_0[\"EMPLOYMENT_YEARS_RANGE\"])\n",
    "plt.show()\n",
    "\n",
    "\n",
    "#Creating plots for Employment_years_range for DEFAULTER\n",
    "plt.figure(figsize = (20,10))\n",
    "plt.subplot(3, 3, 2)\n",
    "plt.ylim(0,100000)\n",
    "plt.title(\"Target=1 : EMPLOYMENT_YEARS-DEFAULDER\")\n",
    "plt.xticks(rotation=45, ha='right')\n",
    "sns.countplot(target_1[\"EMPLOYMENT_YEARS_RANGE\"])\n",
    "plt.show()\n"
   ]
  },
  {
   "cell_type": "markdown",
   "id": "85c23fe8",
   "metadata": {},
   "source": [
    "##### Insights:\n",
    "- Applicants between 0-5 years Employment years are highest repayers.\n",
    "- It is similar in Defaultees also. approx 10% applicants are defaultees from 0-5 years employment range which is gradually decreasing with increasing years."
   ]
  },
  {
   "cell_type": "markdown",
   "id": "9e6921dd",
   "metadata": {},
   "source": [
    "#### Amt credit range"
   ]
  },
  {
   "cell_type": "code",
   "execution_count": null,
   "id": "78c0cb9b",
   "metadata": {},
   "outputs": [],
   "source": [
    "#Creating plots for Amt_credit_range for REPAYER\n",
    "plt.figure(figsize = (40,18))\n",
    "plt.subplot(3, 3, 2)\n",
    "plt.ylim(0,100000)\n",
    "plt.title(\"Target=0 : AMT_CREDIT_RANGE-REPAYER\")\n",
    "plt.xticks(rotation=45, ha='right')\n",
    "sns.countplot(target_0[\"AMT_CREDIT_RANGE\"])\n",
    "plt.show()\n",
    "\n",
    "\n",
    "#Creating plots for Amt_credit_range for DEFAULTER\n",
    "plt.figure(figsize = (40,18))\n",
    "plt.subplot(3, 3, 2)\n",
    "plt.ylim(0,100000)\n",
    "plt.title(\"Target=1 : AMT_CREDIT-DEFAULDER\")\n",
    "plt.xticks(rotation=45, ha='right')\n",
    "sns.countplot(target_1[\"AMT_CREDIT_RANGE\"])\n",
    "plt.show()\n"
   ]
  },
  {
   "cell_type": "markdown",
   "id": "0a663c07",
   "metadata": {},
   "source": [
    "##### Insights:\n",
    "- From the observation Low is most repaid range of credit.\n",
    "- Medium credit range is including highest defaulters.\n",
    "\n"
   ]
  },
  {
   "cell_type": "markdown",
   "id": "573943d8",
   "metadata": {},
   "source": [
    "#### Categorical Variables"
   ]
  },
  {
   "cell_type": "markdown",
   "id": "67d1270b",
   "metadata": {},
   "source": [
    "#### Name contract type"
   ]
  },
  {
   "cell_type": "code",
   "execution_count": null,
   "id": "db0c0250",
   "metadata": {},
   "outputs": [],
   "source": [
    "#Creating plots for REPAYER\n",
    "plt.figure(figsize = (30,15))\n",
    "plt.subplot(3, 3, 2)\n",
    "plt.ylim(0,300000)\n",
    "plt.title(\"Target=0 : NAME_CONTRACT_TYPE-REPAYER\")\n",
    "sns.countplot(target_0[\"NAME_CONTRACT_TYPE\"])\n",
    "plt.show()\n",
    "\n",
    "\n",
    "#Creating plots for DEFAULTER\n",
    "plt.figure(figsize = (30,15))\n",
    "plt.subplot(3, 3, 2)\n",
    "plt.ylim(0,300000)\n",
    "plt.title(\"Target=1 : NAME_CONTRACT_TYPE-DEFAULDER\")\n",
    "sns.countplot(target_1[\"NAME_CONTRACT_TYPE\"])\n",
    "plt.show()\n"
   ]
  },
  {
   "cell_type": "markdown",
   "id": "026536b9",
   "metadata": {},
   "source": [
    "#### Insights:\n",
    "- Revolving loans are very small part of total loans.\n",
    "- Very few loan applicants are defaulter in revolving loans.\n",
    "\n"
   ]
  },
  {
   "cell_type": "markdown",
   "id": "3ca4fc11",
   "metadata": {},
   "source": [
    "#### Code Gender"
   ]
  },
  {
   "cell_type": "code",
   "execution_count": null,
   "id": "06c1bc47",
   "metadata": {},
   "outputs": [],
   "source": [
    "#Creating plots for REPAYER\n",
    "plt.figure(figsize = (40,15))\n",
    "plt.subplot(3, 3, 2)\n",
    "plt.ylim(0,300000)\n",
    "plt.title(\"Target=0 : CODE_GENDER-REPAYER\")\n",
    "sns.countplot(target_0[\"CODE_GENDER\"])\n",
    "plt.show()\n",
    "\n",
    "\n",
    "#Creating plots for DEFAULTER\n",
    "plt.figure(figsize = (40,15))\n",
    "plt.subplot(3, 3, 2)\n",
    "plt.ylim(0,300000)\n",
    "plt.title(\"Target=1 : CODE_GENDER-DEFAULDER\")\n",
    "sns.countplot(target_1[\"CODE_GENDER\"])\n",
    "plt.show()\n"
   ]
  },
  {
   "cell_type": "markdown",
   "id": "0365c4a9",
   "metadata": {},
   "source": [
    "###### Insights:\n",
    "- Males clients have a highest chances to being a defaulter.\n",
    "- Female clients are highest repayers of loans."
   ]
  },
  {
   "cell_type": "markdown",
   "id": "a7920c8b",
   "metadata": {},
   "source": [
    "#### Flag own realty"
   ]
  },
  {
   "cell_type": "code",
   "execution_count": null,
   "id": "f1c56a9a",
   "metadata": {},
   "outputs": [],
   "source": [
    "#Creating plots for REPAYER\n",
    "plt.figure(figsize = (40,15))\n",
    "plt.subplot(3, 3, 2)\n",
    "plt.ylim(0,200000)\n",
    "plt.title(\"Target=0 : FLAG_OWN_REALTY\")\n",
    "sns.countplot(target_0[\"FLAG_OWN_REALTY\"])\n",
    "plt.show()\n",
    "\n",
    "\n",
    "#Creating plots for DEFAULTER\n",
    "plt.figure(figsize = (40,15))\n",
    "plt.subplot(3, 3, 2)\n",
    "plt.ylim(0,50000)\n",
    "plt.title(\"Target=1 : FLAG_OWN_REALTY\")\n",
    "sns.countplot(target_1[\"FLAG_OWN_REALTY\"])\n",
    "plt.show()"
   ]
  },
  {
   "cell_type": "markdown",
   "id": "5fff8279",
   "metadata": {},
   "source": [
    "###### Insights:\n",
    "- The number of clients are almost double who are into real estate.\n",
    "- The defaulter's rate is also higher from the same group.\n"
   ]
  },
  {
   "cell_type": "markdown",
   "id": "762a117a",
   "metadata": {},
   "source": [
    "#### Name Income Type"
   ]
  },
  {
   "cell_type": "code",
   "execution_count": null,
   "id": "7348e269",
   "metadata": {},
   "outputs": [],
   "source": [
    "#Creating plots for REPAYER\n",
    "plt.figure(figsize = (10,4))\n",
    "plt.subplot(1, 2, 1)\n",
    "plt.ylim(0,150000)\n",
    "plt.title(\"Target=0 : NAME_INCOME_TYPE\")\n",
    "plt.xticks(rotation=45, ha='right')\n",
    "sns.countplot(target_0[\"NAME_INCOME_TYPE\"])\n",
    "plt.show()\n",
    "\n",
    "\n",
    "#Creating plots for DEFAULTER\n",
    "plt.figure(figsize = (10,4))\n",
    "plt.subplot(1,2,2)\n",
    "plt.ylim(0,15000)\n",
    "plt.title(\"Target=1 : NAME_INCOME_TYPE\")\n",
    "plt.xticks(rotation=45, ha='right')\n",
    "sns.countplot(target_1[\"NAME_INCOME_TYPE\"])\n",
    "plt.show()"
   ]
  },
  {
   "cell_type": "markdown",
   "id": "7e61586c",
   "metadata": {},
   "source": [
    "###### Insights:\n",
    "- Students,Unemployed are not defaulter.It may be possible that students do not need to pay when they are students and unemploed 's loan can not be granted.\n",
    "- Commercial associates are highest repayer and defaulder as well."
   ]
  },
  {
   "cell_type": "markdown",
   "id": "c8dce2df",
   "metadata": {},
   "source": [
    "#### Name Family Status"
   ]
  },
  {
   "cell_type": "code",
   "execution_count": null,
   "id": "263aaca2",
   "metadata": {},
   "outputs": [],
   "source": [
    "#Creating plots for REPAYER\n",
    "plt.figure(figsize = (45,12))\n",
    "plt.subplot(3, 3, 2)\n",
    "plt.ylim(0,200000)\n",
    "plt.title(\"Target=0 : NAME_FAMILY_STATUS\")\n",
    "plt.xticks(rotation=45, ha='right')\n",
    "sns.countplot(target_0[\"NAME_FAMILY_STATUS\"])\n",
    "plt.show()\n",
    "\n",
    "\n",
    "#Creating plots for DEFAULTER\n",
    "plt.figure(figsize = (45,12))\n",
    "plt.subplot(3, 3, 2)\n",
    "plt.ylim(0,15000)\n",
    "plt.title(\"Target=1 : NAME_FAMILY_STATUS\")\n",
    "plt.xticks(rotation=45, ha='right')\n",
    "sns.countplot(target_1[\"NAME_FAMILY_STATUS\"])\n",
    "plt.show()"
   ]
  },
  {
   "cell_type": "markdown",
   "id": "5db51bc0",
   "metadata": {},
   "source": [
    "###### Insights:\n",
    "- Married people are applying for loans as compare to others.\n",
    "- There is more risk to lend them loan too as they are more likely to be defaulter."
   ]
  },
  {
   "cell_type": "markdown",
   "id": "91652157",
   "metadata": {},
   "source": [
    "#### Name Housing Type"
   ]
  },
  {
   "cell_type": "code",
   "execution_count": null,
   "id": "403d8bfd",
   "metadata": {},
   "outputs": [],
   "source": [
    "#Creating plots for REPAYER\n",
    "plt.figure(figsize = (45,12))\n",
    "plt.subplot(3, 3, 2)\n",
    "plt.ylim(0,300000)\n",
    "plt.title(\"Target=0 : NAME_HOUSING_TYPE\")\n",
    "plt.xticks(rotation=45, ha='right')\n",
    "sns.countplot(target_0[\"NAME_HOUSING_TYPE\"])\n",
    "plt.show()\n",
    "\n",
    "\n",
    "#Creating plots for DEFAULTER\n",
    "plt.figure(figsize = (45,12))\n",
    "plt.subplot(3, 3, 2)\n",
    "plt.ylim(0,20000)\n",
    "plt.title(\"Target=1 : NAME_HOUSING_TYPE\")\n",
    "plt.xticks(rotation=45, ha='right')\n",
    "sns.countplot(target_1[\"NAME_HOUSING_TYPE\"])\n",
    "plt.show()"
   ]
  },
  {
   "cell_type": "markdown",
   "id": "36afcfa6",
   "metadata": {},
   "source": [
    "###### Insights:\n",
    "- Most of the people applied for the loan are living in the House/appartment.\n",
    "- Very less number of loan applicants are living in co-op -apartment or office appartment.\n",
    "- Office apparment 's loan applicants have lowest default rate."
   ]
  },
  {
   "cell_type": "markdown",
   "id": "ef148bfd",
   "metadata": {},
   "source": [
    "#### Occupation Type"
   ]
  },
  {
   "cell_type": "code",
   "execution_count": null,
   "id": "53cc72f9",
   "metadata": {},
   "outputs": [],
   "source": [
    "#Creating plots for REPAYER\n",
    "plt.figure(figsize = (80,30))\n",
    "plt.subplot(3, 3, 2)\n",
    "plt.ylim(0,100000)\n",
    "plt.title(\"Target=0 : OCCUPATION_TYPE\")\n",
    "plt.xticks(rotation=45, ha='right')\n",
    "sns.countplot(target_0[\"OCCUPATION_TYPE\"])\n",
    "plt.show()\n",
    "\n",
    "\n",
    "#Creating plots for DEFAULTER\n",
    "plt.figure(figsize = (80,30))\n",
    "plt.subplot(3, 3, 2)\n",
    "plt.ylim(0,10000)\n",
    "plt.title(\"Target=1 : OCCUPATION_TYPE\")\n",
    "plt.xticks(rotation=45, ha='right')\n",
    "sns.countplot(target_1[\"OCCUPATION_TYPE\"])\n",
    "plt.show()"
   ]
  },
  {
   "cell_type": "markdown",
   "id": "cc721b39",
   "metadata": {},
   "source": [
    "###### Insights:\n",
    "- Labourers and Sales staff are highest applicants of loan and defaultees too.\n",
    "- IT staff, HR Staff are less in numbers of applicants of loan.\n"
   ]
  },
  {
   "cell_type": "markdown",
   "id": "129f3db8",
   "metadata": {},
   "source": [
    "### Categorical Bivariate or Multivariate Analysis"
   ]
  },
  {
   "cell_type": "code",
   "execution_count": null,
   "id": "0b3ed527",
   "metadata": {},
   "outputs": [],
   "source": [
    "inp0.groupby(\"NAME_INCOME_TYPE\")[\"AMT_INCOME_TOTAL\"].describe()\n"
   ]
  },
  {
   "cell_type": "code",
   "execution_count": null,
   "id": "fda8ea09",
   "metadata": {},
   "outputs": [],
   "source": [
    "sns.barplot(x=\"NAME_INCOME_TYPE\",y=\"AMT_INCOME_TOTAL\",hue=\"TARGET\",data=inp0) \n",
    "plt.xticks(rotation=45, ha='right')\n",
    "plt.show()"
   ]
  },
  {
   "cell_type": "markdown",
   "id": "1a2c2451",
   "metadata": {},
   "source": [
    "\n",
    "###### Insights:\n",
    "- Businessman 's income range is highest and that is why Repayer rate is higher in them.\n",
    "- Commercial associate, state servant, working  's defaulter rate is higher in the given data.\n"
   ]
  },
  {
   "cell_type": "markdown",
   "id": "dc477180",
   "metadata": {},
   "source": [
    "#### checking correlation"
   ]
  },
  {
   "cell_type": "code",
   "execution_count": null,
   "id": "0faaddbc",
   "metadata": {},
   "outputs": [],
   "source": [
    "inp0.columns"
   ]
  },
  {
   "cell_type": "code",
   "execution_count": null,
   "id": "5b1ea2de",
   "metadata": {},
   "outputs": [],
   "source": [
    "cols_correlation1 = [\"NAME_CONTRACT_TYPE\", \"CODE_GENDER\", \"FLAG_OWN_CAR\",\"FLAG_OWN_REALTY\", \n",
    "                        \"CNT_CHILDREN\", \"AMT_INCOME_TOTAL\", \"AMT_CREDIT\", \"AMT_ANNUITY\", \"AMT_GOODS_PRICE\", \n",
    "                        \"NAME_TYPE_SUITE\", \"NAME_INCOME_TYPE\", \"NAME_EDUCATION_TYPE\", \"NAME_FAMILY_STATUS\",\n",
    "                        \"NAME_HOUSING_TYPE\", \"REGION_POPULATION_RELATIVE\", \"DAYS_BIRTH\", \"DAYS_EMPLOYED\", \n",
    "                        \"DAYS_REGISTRATION\", \"DAYS_ID_PUBLISH\", \"OCCUPATION_TYPE\", \"CNT_FAM_MEMBERS\", \"REGION_RATING_CLIENT\",\n",
    "                        \"REGION_RATING_CLIENT_W_CITY\", \"WEEKDAY_APPR_PROCESS_START\", \"HOUR_APPR_PROCESS_START\",\n",
    "                        \"REG_REGION_NOT_LIVE_REGION\", \"REG_REGION_NOT_WORK_REGION\", \"LIVE_REGION_NOT_WORK_REGION\", \n",
    "                        \"REG_CITY_NOT_LIVE_CITY\", \"REG_CITY_NOT_WORK_CITY\", \"LIVE_CITY_NOT_WORK_CITY\", \"ORGANIZATION_TYPE\", \"OBS_30_CNT_SOCIAL_CIRCLE\", \"DEF_30_CNT_SOCIAL_CIRCLE\",\n",
    "                        \"OBS_60_CNT_SOCIAL_CIRCLE\", \"DEF_60_CNT_SOCIAL_CIRCLE\", \"DAYS_LAST_PHONE_CHANGE\",\"AMT_REQ_CREDIT_BUREAU_HOUR\", \"AMT_REQ_CREDIT_BUREAU_DAY\", \"AMT_REQ_CREDIT_BUREAU_WEEK\",\"AMT_REQ_CREDIT_BUREAU_MON\",\n",
    "                        \"AMT_REQ_CREDIT_BUREAU_QRT\", \"AMT_REQ_CREDIT_BUREAU_YEAR\"]\n",
    "\n",
    "target_0_col=inp0.loc[inp0['TARGET']==0, cols_correlation1]\n",
    "target_1_col=inp0.loc[inp0['TARGET']==1, cols_correlation1]\n"
   ]
  },
  {
   "cell_type": "code",
   "execution_count": null,
   "id": "e0b3cfa9",
   "metadata": {},
   "outputs": [],
   "source": [
    "len(cols_correlation1)"
   ]
  },
  {
   "cell_type": "code",
   "execution_count": null,
   "id": "a0e6b5c3",
   "metadata": {},
   "outputs": [],
   "source": [
    "target_0.head(10)\n"
   ]
  },
  {
   "cell_type": "code",
   "execution_count": null,
   "id": "3ba5e6a1",
   "metadata": {},
   "outputs": [],
   "source": [
    "#checking correlation amongst the variable for target_0\n",
    "corr0=target_0_col.corr()\n",
    "corr0=corr0.where(np.triu(np.ones(corr0.shape), k=1).astype(np.bool))\n",
    "corr0"
   ]
  },
  {
   "cell_type": "code",
   "execution_count": null,
   "id": "e8582b35",
   "metadata": {},
   "outputs": [],
   "source": [
    "#checking correlation of top 10\n",
    "corr0_inp0 = corr0.unstack().reset_index()\n",
    "corr0_inp0.columns=[\"VAR1\",\"VAR2\",\"Correlation\"]\n",
    "corr0_inp0.dropna(subset = [\"Correlation\"], inplace = True)\n",
    "corr0_inp0[\"Correlation\"] = round(corr0_inp0[\"Correlation\"], 2)\n",
    "corr0_inp0[\"Correlation\"] = corr0_inp0[\"Correlation\"].abs()\n",
    "corr0_inp0.sort_values(by = \"Correlation\", ascending = False).head(10)\n"
   ]
  },
  {
   "cell_type": "code",
   "execution_count": null,
   "id": "cca71a44",
   "metadata": {},
   "outputs": [],
   "source": [
    "# Plotting heatmao to visualise correlation among repyers\n",
    "fig = plt.figure(figsize=(25,20))\n",
    "ax = sns.heatmap(target_0_col.corr(), cmap=\"RdYlGn\",annot=True,linewidth =1)"
   ]
  },
  {
   "cell_type": "markdown",
   "id": "d0184f54",
   "metadata": {},
   "source": [
    "#### Insights:\n",
    "- There is very high relationship between credit amount,goods price amount,amt annuity and total income.\n",
    "- There is also high relationship between Days birth and days employed.\n",
    "- CNT Children and family members also shares high relationship."
   ]
  },
  {
   "cell_type": "code",
   "execution_count": null,
   "id": "0b1ff4da",
   "metadata": {},
   "outputs": [],
   "source": [
    "#checking correlation amongst the variable for target_0\n",
    "corr1=target_1_col.corr()\n",
    "corr1=corr1.where(np.triu(np.ones(corr1.shape), k=1).astype(np.bool))\n",
    "corr1"
   ]
  },
  {
   "cell_type": "code",
   "execution_count": null,
   "id": "08a326ce",
   "metadata": {
    "scrolled": true
   },
   "outputs": [],
   "source": [
    "#checking correlation of top 10\n",
    "corr1_inp0 = corr1.unstack().reset_index()\n",
    "corr1_inp0.columns=[\"VAR1\",\"VAR2\",\"Correlation\"]\n",
    "corr1_inp0.dropna(subset = [\"Correlation\"], inplace = True)\n",
    "corr1_inp0[\"Correlation\"] = round(corr1_inp0[\"Correlation\"], 2)\n",
    "corr1_inp0[\"Correlation\"] = corr1_inp0[\"Correlation\"].abs()\n",
    "corr1_inp0.sort_values(by = \"Correlation\", ascending = False).head(10)"
   ]
  },
  {
   "cell_type": "code",
   "execution_count": null,
   "id": "914f0184",
   "metadata": {},
   "outputs": [],
   "source": [
    "# Plotting heatmao to visualise correlation among repyers\n",
    "fig = plt.figure(figsize=(25,20))\n",
    "ax = sns.heatmap(target_1_col.corr(), cmap=\"RdYlGn\",annot=True,linewidth =1)"
   ]
  },
  {
   "cell_type": "markdown",
   "id": "93e2743b",
   "metadata": {},
   "source": [
    "###### Insights:\n",
    "- Amount credit is highly correlated with goods price,and amount annuity.\n",
    "- Days of birth and days of employed are also correlated with each other.\n",
    "- There are few changes in relationship among variables as compared to repayer."
   ]
  },
  {
   "cell_type": "code",
   "execution_count": null,
   "id": "51952227",
   "metadata": {},
   "outputs": [],
   "source": [
    "# Numerical Bivariate analysis\n",
    "sns.lineplot(\"AMT_GOODS_PRICE\",\"AMT_CREDIT\",hue=\"TARGET\",data=inp0)\n",
    "plt.xticks(rotation=45, ha='right')\n",
    "plt.ylim(0,)"
   ]
  },
  {
   "cell_type": "markdown",
   "id": "41d51923",
   "metadata": {},
   "source": [
    "###### Insights:\n",
    "- As credit amount increases more than 25 lakhs defalter rate also increase.It shows that amount of loan affects the repayment of loan."
   ]
  },
  {
   "cell_type": "code",
   "execution_count": null,
   "id": "3f6384e6",
   "metadata": {},
   "outputs": [],
   "source": [
    "#pair plot among variables for analysis\n",
    "AMT_1 = inp0[[ \"AMT_INCOME_TOTAL\",\"AMT_CREDIT\",\"AMT_ANNUITY\", \"AMT_GOODS_PRICE\",\"TARGET\"]]\n",
    "AMT_1 = AMT_1[(AMT_1[\"AMT_GOODS_PRICE\"].notnull()) & (AMT_1[\"AMT_ANNUITY\"].notnull())]\n",
    "\n",
    "ax= sns.pairplot(AMT_1,hue=\"TARGET\")\n",
    "ax.fig.legend(labels=[\"Defaulter\",\"Repayer\"])\n",
    "plt.show()"
   ]
  },
  {
   "cell_type": "markdown",
   "id": "8b27208b",
   "metadata": {},
   "source": [
    "###### Insights:\n",
    "- Amount credit and goods price are highly correlated as scatter chart form a line.\n",
    "- Very few defaulter are available when amount credit is more than 15 Lakhs.\n"
   ]
  },
  {
   "cell_type": "markdown",
   "id": "34210f6d",
   "metadata": {},
   "source": [
    "### Analysis of merged data\n"
   ]
  },
  {
   "cell_type": "code",
   "execution_count": null,
   "id": "ab9be07a",
   "metadata": {},
   "outputs": [],
   "source": [
    "# Merge both the data \n",
    "inp = pd.merge(inp0, inp1, how=\"left\", on=\"SK_ID_CURR\")\n",
    "inp.head()"
   ]
  },
  {
   "cell_type": "code",
   "execution_count": null,
   "id": "473cb0f1",
   "metadata": {},
   "outputs": [],
   "source": [
    "# Checking the size of merged data\n",
    "inp.shape"
   ]
  },
  {
   "cell_type": "code",
   "execution_count": null,
   "id": "f7d3d6be",
   "metadata": {
    "scrolled": true
   },
   "outputs": [],
   "source": [
    "inp.info()"
   ]
  },
  {
   "cell_type": "code",
   "execution_count": null,
   "id": "c4b1bfc0",
   "metadata": {},
   "outputs": [],
   "source": [
    "#for identifying correlation and analysis -bisecting merged data-\n",
    "#Repayers\n",
    "inp_t0=inp[inp[\"TARGET\"]==0]\n",
    "#Defaulders\n",
    "inp_t1=inp[inp[\"TARGET\"]==1]"
   ]
  },
  {
   "cell_type": "code",
   "execution_count": null,
   "id": "dcabd6d4",
   "metadata": {},
   "outputs": [],
   "source": [
    "#Plotting relationship between Contract status and Total income\n",
    "sns.lineplot(\"NAME_CONTRACT_STATUS\",\"AMT_INCOME_TOTAL\",hue=\"TARGET\",data=inp)\n",
    "plt.xticks(rotation=45, ha=\"right\")\n",
    "plt.ylim(0,)"
   ]
  },
  {
   "cell_type": "markdown",
   "id": "e3b758b7",
   "metadata": {},
   "source": [
    "###### Insights:\n",
    "- People who have unused loan offer are defaulted in high number within average income.\n"
   ]
  },
  {
   "cell_type": "code",
   "execution_count": null,
   "id": "461650fa",
   "metadata": {},
   "outputs": [],
   "source": [
    "#Plotting relationship between people defaulted in last 30days and Contract status\n",
    "\n",
    "sns.lineplot(\"NAME_CONTRACT_STATUS\",\"DEF_30_CNT_SOCIAL_CIRCLE\",hue=\"TARGET\",data=inp)\n",
    "plt.xticks(rotation=45, ha=\"right\")\n",
    "plt.ylim(0,)"
   ]
  },
  {
   "cell_type": "markdown",
   "id": "25c8eb50",
   "metadata": {},
   "source": [
    "###### Insights:\n",
    "- The number of defaultees in last 30 days in CNT SOCIAL CIRCLE are higher though previously bank has rejected their loan."
   ]
  },
  {
   "cell_type": "markdown",
   "id": "3dfdc866",
   "metadata": {},
   "source": [
    "## Conclusions:\n"
   ]
  },
  {
   "cell_type": "markdown",
   "id": "d2290999",
   "metadata": {},
   "source": [
    "\n",
    "1.An applicant may be Repayer can be analysed with following insights.\n",
    "\n",
    "- Age between 30-40 are highest repayer of loan.\n",
    "- Employment years between 0-5 are highest repayer.\n",
    "- Low credit range between 40,000 to 80,000 are highest repayer.\n",
    "- Cash loans are very huge part of total loans.\n",
    "- Female clients are highest repayer almost double than male clients.\n",
    "- Labourers and Sales staff are highest applicants of loan and defaultees too.\n",
    "\n",
    "2.Applicant may be Repayer can be analysed with following insights.\n",
    "\n",
    "- With increasing age and employment years defaluter are decreases.\n",
    "- Medium credit range is including highest defaulters \n",
    "- Very few clients are defalutees in revolving loans.\n",
    "- Males cliens have highest chances to being a defaulter.\n",
    "\n",
    "3.Bank can follow reject or can approve loan with higher intersts by considering following conclusion.\n",
    "\n",
    "- Commercial associate, state servant, working 's defaulter rate is higher in the given data.\n",
    "- Married people are applying for loans more as compare to others.\n",
    "- Males clients have a highest chances to being a defaulter.\n",
    "- People having more than 3 children are consisting high default rate.\n",
    "- People who lived in a rented house are higher as compare to people lived in their own houses -so chances of defaultees are higher.\n",
    "\n"
   ]
  },
  {
   "cell_type": "code",
   "execution_count": null,
   "id": "13b0969b",
   "metadata": {},
   "outputs": [],
   "source": []
  },
  {
   "cell_type": "code",
   "execution_count": null,
   "id": "9938c67f",
   "metadata": {},
   "outputs": [],
   "source": []
  },
  {
   "cell_type": "code",
   "execution_count": null,
   "id": "13f24a0a",
   "metadata": {},
   "outputs": [],
   "source": [
    "  "
   ]
  }
 ],
 "metadata": {
  "kernelspec": {
   "display_name": "Python 3 (ipykernel)",
   "language": "python",
   "name": "python3"
  },
  "language_info": {
   "codemirror_mode": {
    "name": "ipython",
    "version": 3
   },
   "file_extension": ".py",
   "mimetype": "text/x-python",
   "name": "python",
   "nbconvert_exporter": "python",
   "pygments_lexer": "ipython3",
   "version": "3.9.7"
  }
 },
 "nbformat": 4,
 "nbformat_minor": 5
}
